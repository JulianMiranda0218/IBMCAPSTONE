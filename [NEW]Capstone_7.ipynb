{
 "cells": [
  {
   "cell_type": "code",
   "execution_count": 152,
   "id": "48036da5-dc1e-4b18-abd6-c69efe4f688b",
   "metadata": {},
   "outputs": [],
   "source": [
    "import pandas as pd\n",
    "import dash\n",
    "from dash import dcc, html\n",
    "import dash_bootstrap_components as dbc\n",
    "from dash.dependencies import Input, Output\n",
    "import plotly.express as px"
   ]
  },
  {
   "cell_type": "code",
   "execution_count": 154,
   "id": "50d217b2-a6df-498f-be19-e5fe5f685a4b",
   "metadata": {},
   "outputs": [],
   "source": [
    "spacex_df = pd.read_csv(\"spacex_launch_dash.csv\")\n",
    "max_payload = spacex_df['Payload Mass (kg)'].max()\n",
    "min_payload = spacex_df['Payload Mass (kg)'].min()"
   ]
  },
  {
   "cell_type": "code",
   "execution_count": 156,
   "id": "9c97089c-8431-422d-b9cb-7eea6195b2e7",
   "metadata": {},
   "outputs": [
    {
     "name": "stdout",
     "output_type": "stream",
     "text": [
      "    Unnamed: 0  Flight Number   Launch Site  class  Payload Mass (kg)  \\\n",
      "0            0              1   CCAFS LC-40      0               0.00   \n",
      "1            1              2   CCAFS LC-40      0               0.00   \n",
      "2            2              3   CCAFS LC-40      0             525.00   \n",
      "3            3              4   CCAFS LC-40      0             500.00   \n",
      "4            4              5   CCAFS LC-40      0             677.00   \n",
      "5            5              7   CCAFS LC-40      0            3170.00   \n",
      "6            6              8   CCAFS LC-40      0            3325.00   \n",
      "7            7              9   CCAFS LC-40      0            2296.00   \n",
      "8            8             10   CCAFS LC-40      0            1316.00   \n",
      "9            9             11   CCAFS LC-40      0            4535.00   \n",
      "10          10             12   CCAFS LC-40      0            4428.00   \n",
      "11          11             13   CCAFS LC-40      0            2216.00   \n",
      "12          12             14   CCAFS LC-40      0            2395.00   \n",
      "13          13             15   CCAFS LC-40      0             570.00   \n",
      "14          14             16   CCAFS LC-40      0            4159.00   \n",
      "15          15             17   CCAFS LC-40      0            1898.00   \n",
      "16          16             18   CCAFS LC-40      0            4707.00   \n",
      "17          17             19   CCAFS LC-40      1            1952.00   \n",
      "18          18             20   CCAFS LC-40      1            2034.00   \n",
      "19          19             22   CCAFS LC-40      0            5271.00   \n",
      "20          20             23   CCAFS LC-40      1            3136.00   \n",
      "21          21             24   CCAFS LC-40      1            4696.00   \n",
      "22          22             25   CCAFS LC-40      1            3100.00   \n",
      "23          23             26   CCAFS LC-40      0            3600.00   \n",
      "24          24             27   CCAFS LC-40      1            2257.00   \n",
      "25          25             28   CCAFS LC-40      1            4600.00   \n",
      "26          26              6   VAFB SLC-4E      0             500.00   \n",
      "27          27             21   VAFB SLC-4E      0             553.00   \n",
      "28          28             29   VAFB SLC-4E      1            9600.00   \n",
      "29          29             37   VAFB SLC-4E      1            9600.00   \n",
      "30          30             40   VAFB SLC-4E      1             475.00   \n",
      "31          31             42   VAFB SLC-4E      1            9600.00   \n",
      "32          32             46   VAFB SLC-4E      0            9600.00   \n",
      "33          33             49   VAFB SLC-4E      0            2150.00   \n",
      "34          34             51   VAFB SLC-4E      0            9600.00   \n",
      "35          35             55   VAFB SLC-4E      0            6460.00   \n",
      "36          36             30    KSC LC-39A      1            2490.00   \n",
      "37          37             31    KSC LC-39A      0            5600.00   \n",
      "38          38             32    KSC LC-39A      1            5300.00   \n",
      "39          39             33    KSC LC-39A      1            3696.65   \n",
      "40          40             34    KSC LC-39A      0            6070.00   \n",
      "41          41             35    KSC LC-39A      1            2708.00   \n",
      "42          42             36    KSC LC-39A      1            3669.00   \n",
      "43          43             38    KSC LC-39A      0            6761.00   \n",
      "44          44             39    KSC LC-39A      1            3310.00   \n",
      "45          45             41    KSC LC-39A      1            4990.00   \n",
      "46          46             43    KSC LC-39A      1            5200.00   \n",
      "47          47             44    KSC LC-39A      1            3500.00   \n",
      "48          48             54    KSC LC-39A      1            3600.00   \n",
      "49          49             45  CCAFS SLC-40      1            2205.00   \n",
      "50          50             47  CCAFS SLC-40      1            3696.65   \n",
      "51          51             48  CCAFS SLC-40      0            4230.00   \n",
      "52          52             50  CCAFS SLC-40      0            6092.00   \n",
      "53          53             52  CCAFS SLC-40      0            2647.00   \n",
      "54          54             53  CCAFS SLC-40      1             362.00   \n",
      "55          55             56  CCAFS SLC-40      0            5384.00   \n",
      "\n",
      "   Booster Version Booster Version Category  \n",
      "0   F9 v1.0  B0003                     v1.0  \n",
      "1   F9 v1.0  B0004                     v1.0  \n",
      "2   F9 v1.0  B0005                     v1.0  \n",
      "3   F9 v1.0  B0006                     v1.0  \n",
      "4   F9 v1.0  B0007                     v1.0  \n",
      "5          F9 v1.1                     v1.1  \n",
      "6          F9 v1.1                     v1.1  \n",
      "7          F9 v1.1                     v1.1  \n",
      "8          F9 v1.1                     v1.1  \n",
      "9          F9 v1.1                     v1.1  \n",
      "10   F9 v1.1 B1011                     v1.1  \n",
      "11   F9 v1.1 B1010                     v1.1  \n",
      "12   F9 v1.1 B1012                     v1.1  \n",
      "13   F9 v1.1 B1013                     v1.1  \n",
      "14   F9 v1.1 B1014                     v1.1  \n",
      "15   F9 v1.1 B1015                     v1.1  \n",
      "16   F9 v1.1 B1016                     v1.1  \n",
      "17   F9 v1.1 B1018                     v1.1  \n",
      "18     F9 FT B1019                       FT  \n",
      "19     F9 FT B1020                       FT  \n",
      "20   F9 FT B1021.1                       FT  \n",
      "21     F9 FT B1022                       FT  \n",
      "22   F9 FT B1023.1                       FT  \n",
      "23     F9 FT B1024                       FT  \n",
      "24   F9 FT B1025.1                       FT  \n",
      "25     F9 FT B1026                       FT  \n",
      "26  F9 v1.1  B1003                     v1.1  \n",
      "27   F9 v1.1 B1017                     v1.1  \n",
      "28   F9 FT B1029.1                       FT  \n",
      "29   F9 FT B1036.1                       FT  \n",
      "30   F9 FT B1038.1                       FT  \n",
      "31   F9 B4 B1041.1                       B4  \n",
      "32  F9 FT  B1036.2                       FT  \n",
      "33  F9 FT  B1038.2                       FT  \n",
      "34  F9 B4  B1041.2                       B4  \n",
      "35  F9 B4  B1043.2                       B4  \n",
      "36   F9 FT B1031.1                       FT  \n",
      "37     F9 FT B1030                       FT  \n",
      "38  F9 FT  B1021.2                       FT  \n",
      "39   F9 FT B1032.1                       FT  \n",
      "40     F9 FT B1034                       FT  \n",
      "41   F9 FT B1035.1                       FT  \n",
      "42  F9 FT  B1029.2                       FT  \n",
      "43     F9 FT B1037                       FT  \n",
      "44   F9 B4 B1039.1                       B4  \n",
      "45   F9 B4 B1040.1                       B4  \n",
      "46  F9 FT  B1031.2                       FT  \n",
      "47   F9 B4 B1042.1                       B4  \n",
      "48  F9 B5  B1046.1                       B5  \n",
      "49  F9 FT  B1035.2                       FT  \n",
      "50   F9 B4 B1043.1                       B4  \n",
      "51  F9 FT  B1032.2                       FT  \n",
      "52     F9 B4 B1044                       B4  \n",
      "53  F9 B4  B1039.2                       B4  \n",
      "54   F9 B4 B1045.1                       B4  \n",
      "55  F9 B4  B1040.2                       B4  \n"
     ]
    }
   ],
   "source": [
    "print(spacex_df)"
   ]
  },
  {
   "cell_type": "code",
   "execution_count": 158,
   "id": "49d2a9bd-6a38-490a-97d0-080964c80a1c",
   "metadata": {},
   "outputs": [
    {
     "name": "stdout",
     "output_type": "stream",
     "text": [
      "Index(['Unnamed: 0', 'Flight Number', 'Launch Site', 'class',\n",
      "       'Payload Mass (kg)', 'Booster Version', 'Booster Version Category'],\n",
      "      dtype='object')\n"
     ]
    }
   ],
   "source": [
    "print(spacex_df.columns)"
   ]
  },
  {
   "cell_type": "code",
   "execution_count": 160,
   "id": "6326041d-01a0-4106-8146-1af6a462af76",
   "metadata": {},
   "outputs": [],
   "source": [
    "app = dash.Dash(__name__)"
   ]
  },
  {
   "cell_type": "code",
   "execution_count": 170,
   "id": "50478f68-2400-44ce-b4d7-48f47e760562",
   "metadata": {},
   "outputs": [],
   "source": [
    "app.layout = html.Div(children=[html.H1('SpaceX Launch Records Dashboard',\n",
    "                                        style={'textAlign': 'center', 'color': '#503D36',\n",
    "                                               'font-size': 40}),\n",
    "                               \n",
    "                                dcc.Dropdown(id='site-dropdown',\n",
    "                                options=[\n",
    "                                    {'label': 'All Sites', 'value': 'All Sites'},\n",
    "                                    {'label': 'CCAFS LC-40', 'value': 'CCAFS LC-40'},\n",
    "                                    {'label': 'VAFB SLC-4E', 'value': 'VAFB SLC-4E'},\n",
    "                                    {'label': 'KSC LC-39A', 'value': 'KSC LC-39A'},\n",
    "                                    {'label': 'CCAFS SLC-40', 'value': 'CCAFS SLC-40'}\n",
    "                                ],\n",
    "                                placeholder='Select a Launch Site Here',\n",
    "                                value='All Sites',\n",
    "                                searchable=True\n",
    "                                ),\n",
    "                                html.Br(),\n",
    "\n",
    "                                html.Div(dcc.Graph(id='success-pie-chart')),\n",
    "                                html.Br(),\n",
    "\n",
    "                                html.P(\"Payload range (Kg):\"),\n",
    "\n",
    "                                dcc.RangeSlider(id='payload-slider',\n",
    "                                min=0,\n",
    "                                max=10000,\n",
    "                                step=1000,\n",
    "                                marks={i: '{}'.format(i) for i in range(0, 10001, 1000)},\n",
    "                                value=[min_payload, max_payload]),\n",
    "\n",
    "                                html.Div(dcc.Graph(id='success-payload-scatter-chart')),\n",
    "                                ])"
   ]
  },
  {
   "cell_type": "code",
   "execution_count": 164,
   "id": "99aef58b-a004-425a-a416-3e825c3f33ff",
   "metadata": {},
   "outputs": [],
   "source": [
    "@app.callback( Output(component_id='success-pie-chart', component_property='figure'),\n",
    "               Input(component_id='site-dropdown', component_property='value'))\n",
    "def get_pie_chart(launch_site):\n",
    "    if launch_site == 'All Sites':\n",
    "        fig = px.pie(values=spacex_df.groupby('Launch Site')['class'].mean(), \n",
    "                     names=spacex_df.groupby('Launch Site')['Launch Site'].first(),\n",
    "                     title='Total Success Launches by Site')\n",
    "    else:\n",
    "        fig = px.pie(values=spacex_df[spacex_df['Launch Site']==str(launch_site)]['class'].value_counts(normalize=True), \n",
    "                     names=spacex_df['class'].unique(), \n",
    "                     title='Total Success Launches for Site {}'.format(launch_site))\n",
    "    return(fig)"
   ]
  },
  {
   "cell_type": "code",
   "execution_count": 166,
   "id": "6703e90a-aede-470c-8d06-1efbcc548198",
   "metadata": {},
   "outputs": [],
   "source": [
    "@app.callback( Output(component_id='success-payload-scatter-chart', component_property='figure'),\n",
    "              [Input(component_id='site-dropdown', component_property='value'),\n",
    "               Input(component_id='payload-slider',component_property='value')])\n",
    "def get_payload_chart(launch_site, payload_mass):\n",
    "    if launch_site == 'All Sites':\n",
    "        fig = px.scatter(spacex_df[spacex_df['Payload Mass (kg)'].between(payload_mass[0], payload_mass[1])], \n",
    "                x=\"Payload Mass (kg)\",\n",
    "                y=\"class\",\n",
    "                color=\"Booster Version Category\",\n",
    "                hover_data=['Launch Site'],\n",
    "                title='Correlation Between Payload and Success for All Sites')\n",
    "    else:\n",
    "        df = spacex_df[spacex_df['Launch Site']==str(launch_site)]\n",
    "        fig = px.scatter(df[df['Payload Mass (kg)'].between(payload_mass[0], payload_mass[1])], \n",
    "                x=\"Payload Mass (kg)\",\n",
    "                y=\"class\",\n",
    "                color=\"Booster Version Category\",\n",
    "                hover_data=['Launch Site'],\n",
    "                title='Correlation Between Payload and Success for Site {}'.format(launch_site))\n",
    "    return(fig)"
   ]
  },
  {
   "cell_type": "code",
   "execution_count": 168,
   "id": "373d93d4-bd9f-4787-8f0e-1cce8e145480",
   "metadata": {},
   "outputs": [
    {
     "data": {
      "text/html": [
       "\n",
       "        <iframe\n",
       "            width=\"100%\"\n",
       "            height=\"650\"\n",
       "            src=\"http://127.0.0.1:8052/\"\n",
       "            frameborder=\"0\"\n",
       "            allowfullscreen\n",
       "            \n",
       "        ></iframe>\n",
       "        "
      ],
      "text/plain": [
       "<IPython.lib.display.IFrame at 0x228bf34adb0>"
      ]
     },
     "metadata": {},
     "output_type": "display_data"
    }
   ],
   "source": [
    "if __name__ == '__main__':\n",
    "    app.run(debug=True, port = 8052)"
   ]
  },
  {
   "cell_type": "code",
   "execution_count": null,
   "id": "423eee24-68a7-4bdd-a0d2-fb61f0c3770f",
   "metadata": {},
   "outputs": [],
   "source": []
  }
 ],
 "metadata": {
  "kernelspec": {
   "display_name": "Python [conda env:base]",
   "language": "python",
   "name": "conda-base-py"
  },
  "language_info": {
   "codemirror_mode": {
    "name": "ipython",
    "version": 3
   },
   "file_extension": ".py",
   "mimetype": "text/x-python",
   "name": "python",
   "nbconvert_exporter": "python",
   "pygments_lexer": "ipython3",
   "version": "3.12.7"
  }
 },
 "nbformat": 4,
 "nbformat_minor": 5
}
